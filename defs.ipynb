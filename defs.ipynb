{
 "cells": [
  {
   "cell_type": "code",
   "execution_count": null,
   "id": "7116606d",
   "metadata": {},
   "outputs": [],
   "source": [
    "class link:\n",
    "    def __init__(self,pfrom,pto,amount):\n",
    "        self.amount = amount\n",
    "        self.pfrom = pfrom\n",
    "        self.pto = pto\n",
    "    def speak(self):\n",
    "        print(self.pfrom.name, 'owns',self.pto.name,self.amount)"
   ]
  },
  {
   "cell_type": "code",
   "execution_count": null,
   "id": "657c35ee",
   "metadata": {},
   "outputs": [],
   "source": [
    "class Person:\n",
    "    def __init__(self, name,links):\n",
    "        self.name = name\n",
    "        self.links = links\n",
    "    def say_name(self):\n",
    "        print('my name is',self.name)\n",
    "    def say_links(self):\n",
    "        for l in self.links:\n",
    "            l.speak()"
   ]
  },
  {
   "cell_type": "code",
   "execution_count": null,
   "id": "7e490d2e",
   "metadata": {},
   "outputs": [],
   "source": [
    "class bill:\n",
    "    def __init__(self, amount,paid_by,shared_by):\n",
    "        self.amount = amount\n",
    "        self.paid_by = [paid_by]\n",
    "        self.shared_by = shared_by\n",
    "    def say_paid_by(self):\n",
    "        print('the bill is paid by',','.join([p.name for p in self.paid_by]))\n",
    "    def say_shared_by(self):\n",
    "        print('the bill is shared by',','.join([p.name for p in self.shared_by]))\n",
    "    def assign_link(self):\n",
    "        for p in self.shared_by:\n",
    "            for r in self.paid_by:\n",
    "                if(r == p):\n",
    "                    break\n",
    "                else:\n",
    "                    l = link(p,r,(self.amount/len(self.shared_by)))\n",
    "                    p.links.append(l)\n",
    "                    l2 = link(r,p,-(self.amount/len(self.shared_by)))\n",
    "                    r.links.append(l2)\n",
    "        print('done')"
   ]
  },
  {
   "cell_type": "code",
   "execution_count": null,
   "id": "21f99a3c",
   "metadata": {},
   "outputs": [],
   "source": [
    "def compile_links(people):\n",
    "    all_links = []\n",
    "    for person in people:\n",
    "        all_links.extend(person.links)\n",
    "    return all_links"
   ]
  },
  {
   "cell_type": "code",
   "execution_count": null,
   "id": "d84ac0d0",
   "metadata": {},
   "outputs": [],
   "source": [
    "class node(Person):\n",
    "    def __init__(self, Person):\n",
    "        self.name = Person.name\n",
    "        self.person = Person\n",
    "        self.links = []\n",
    "    def say_name(self):\n",
    "        print('my name is',self.name)"
   ]
  },
  {
   "cell_type": "code",
   "execution_count": null,
   "id": "abce1b13",
   "metadata": {},
   "outputs": [],
   "source": [
    "def calculate(people):\n",
    "    all_links = compile_links(people)\n",
    "    nodes = []\n",
    "    for p in people:\n",
    "        n = node(p)\n",
    "        nodes.append(n)\n",
    "        for pto in set([links.pto for links in all_links if links.pfrom == p]):\n",
    "            n.links.append(link(p,pto,sum([links.amount for links in all_links if links.pfrom == p and links.pto == pto])))\n",
    "    return nodes"
   ]
  },
  {
   "cell_type": "code",
   "execution_count": null,
   "id": "f037801e",
   "metadata": {},
   "outputs": [],
   "source": [
    "import networkx as nx\n",
    "def create_graph(nodes):\n",
    "    G = nx.DiGraph()\n",
    "    final_links = [link for link in compile_links(nodes) if link.amount > 0]\n",
    "    for i in final_links:\n",
    "        G.add_edge(i.pfrom.name, i.pto.name, capacity=i.amount)\n",
    "    return G"
   ]
  }
 ],
 "metadata": {
  "kernelspec": {
   "display_name": "Python 3 (ipykernel)",
   "language": "python",
   "name": "python3"
  },
  "language_info": {
   "codemirror_mode": {
    "name": "ipython",
    "version": 3
   },
   "file_extension": ".py",
   "mimetype": "text/x-python",
   "name": "python",
   "nbconvert_exporter": "python",
   "pygments_lexer": "ipython3",
   "version": "3.8.3"
  }
 },
 "nbformat": 4,
 "nbformat_minor": 5
}
