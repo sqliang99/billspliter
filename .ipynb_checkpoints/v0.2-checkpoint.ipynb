{
 "cells": [
  {
   "cell_type": "code",
   "execution_count": 1,
   "id": "4f331ee0",
   "metadata": {},
   "outputs": [],
   "source": [
    "import defs\n",
    "import networkx as nx"
   ]
  },
  {
   "cell_type": "code",
   "execution_count": 2,
   "id": "1dddd54a",
   "metadata": {},
   "outputs": [
    {
     "name": "stdout",
     "output_type": "stream",
     "text": [
      "done\n",
      "done\n"
     ]
    }
   ],
   "source": [
    "a = defs.Person('Matt',[])\n",
    "b = defs.Person('Susan',[])\n",
    "c = defs.Person('Corbin',[])\n",
    "d = defs.Person('Anna',[])\n",
    "\n",
    "b1 = defs.bill(90,a,[b,c,d])\n",
    "b1.assign_link()\n",
    "b2 = defs.bill(60,b,[a,b,d])\n",
    "b2.assign_link()"
   ]
  },
  {
   "cell_type": "code",
   "execution_count": 3,
   "id": "8bc3f72c",
   "metadata": {},
   "outputs": [],
   "source": [
    "nodes = defs.calculate([a,b,c,d])"
   ]
  },
  {
   "cell_type": "code",
   "execution_count": 4,
   "id": "5686341f",
   "metadata": {},
   "outputs": [],
   "source": [
    "G = defs.create_graph(nodes)"
   ]
  },
  {
   "cell_type": "code",
   "execution_count": 5,
   "id": "b4e172bc",
   "metadata": {},
   "outputs": [
    {
     "data": {
      "text/plain": [
       "['Susan', 'Matt', 'Corbin', 'Anna']"
      ]
     },
     "execution_count": 5,
     "metadata": {},
     "output_type": "execute_result"
    }
   ],
   "source": [
    "list(G.nodes)"
   ]
  },
  {
   "cell_type": "code",
   "execution_count": 6,
   "id": "dc74551e",
   "metadata": {},
   "outputs": [
    {
     "data": {
      "text/plain": [
       "[('Susan', 'Matt'), ('Corbin', 'Matt'), ('Anna', 'Matt'), ('Anna', 'Susan')]"
      ]
     },
     "execution_count": 6,
     "metadata": {},
     "output_type": "execute_result"
    }
   ],
   "source": [
    "list(G.edges)"
   ]
  },
  {
   "cell_type": "code",
   "execution_count": 7,
   "id": "2856ba39",
   "metadata": {},
   "outputs": [
    {
     "data": {
      "text/plain": [
       "AtlasView({'Matt': {'capacity': 10.0}})"
      ]
     },
     "execution_count": 7,
     "metadata": {},
     "output_type": "execute_result"
    }
   ],
   "source": [
    "G['Susan']"
   ]
  },
  {
   "cell_type": "code",
   "execution_count": 9,
   "id": "eee9f012",
   "metadata": {},
   "outputs": [
    {
     "data": {
      "text/plain": [
       "40.0"
      ]
     },
     "execution_count": 9,
     "metadata": {},
     "output_type": "execute_result"
    }
   ],
   "source": [
    "flow_value, flow_dict = nx.maximum_flow(G, \"Anna\", \"Matt\")\n",
    "flow_value"
   ]
  },
  {
   "cell_type": "code",
   "execution_count": 10,
   "id": "83f99888",
   "metadata": {},
   "outputs": [
    {
     "ename": "AttributeError",
     "evalue": "module networkx has no attribute build_residual_network",
     "output_type": "error",
     "traceback": [
      "\u001b[1;31m---------------------------------------------------------------------------\u001b[0m",
      "\u001b[1;31mAttributeError\u001b[0m                            Traceback (most recent call last)",
      "\u001b[1;32m~\\AppData\\Local\\Temp/ipykernel_18652/2288148392.py\u001b[0m in \u001b[0;36m<module>\u001b[1;34m\u001b[0m\n\u001b[1;32m----> 1\u001b[1;33m \u001b[0mnx\u001b[0m\u001b[1;33m.\u001b[0m\u001b[0mbuild_residual_network\u001b[0m\u001b[1;33m(\u001b[0m\u001b[0mG\u001b[0m\u001b[1;33m)\u001b[0m\u001b[1;33m\u001b[0m\u001b[1;33m\u001b[0m\u001b[0m\n\u001b[0m",
      "\u001b[1;32m~\\anaconda3\\lib\\site-packages\\networkx\\__init__.py\u001b[0m in \u001b[0;36m__getattr__\u001b[1;34m(name)\u001b[0m\n\u001b[0;32m     49\u001b[0m             \u001b[1;34m\"This message will be removed in NetworkX 3.0.\"\u001b[0m\u001b[1;33m\u001b[0m\u001b[1;33m\u001b[0m\u001b[0m\n\u001b[0;32m     50\u001b[0m         )\n\u001b[1;32m---> 51\u001b[1;33m     \u001b[1;32mraise\u001b[0m \u001b[0mAttributeError\u001b[0m\u001b[1;33m(\u001b[0m\u001b[1;34mf\"module {__name__} has no attribute {name}\"\u001b[0m\u001b[1;33m)\u001b[0m\u001b[1;33m\u001b[0m\u001b[1;33m\u001b[0m\u001b[0m\n\u001b[0m\u001b[0;32m     52\u001b[0m \u001b[1;33m\u001b[0m\u001b[0m\n\u001b[0;32m     53\u001b[0m \u001b[1;33m\u001b[0m\u001b[0m\n",
      "\u001b[1;31mAttributeError\u001b[0m: module networkx has no attribute build_residual_network"
     ]
    }
   ],
   "source": [
    "nx.build_residual_network(G)"
   ]
  },
  {
   "cell_type": "code",
   "execution_count": null,
   "id": "8b040401",
   "metadata": {},
   "outputs": [],
   "source": []
  }
 ],
 "metadata": {
  "kernelspec": {
   "display_name": "Python 3 (ipykernel)",
   "language": "python",
   "name": "python3"
  },
  "language_info": {
   "codemirror_mode": {
    "name": "ipython",
    "version": 3
   },
   "file_extension": ".py",
   "mimetype": "text/x-python",
   "name": "python",
   "nbconvert_exporter": "python",
   "pygments_lexer": "ipython3",
   "version": "3.8.3"
  }
 },
 "nbformat": 4,
 "nbformat_minor": 5
}
