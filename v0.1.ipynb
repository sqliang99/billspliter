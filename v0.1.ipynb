{
 "cells": [
  {
   "cell_type": "code",
   "execution_count": 1,
   "id": "769a4483",
   "metadata": {},
   "outputs": [],
   "source": [
    "class link:\n",
    "    def __init__(self,pfrom,pto,amount):\n",
    "        self.amount = amount\n",
    "        self.pfrom = pfrom\n",
    "        self.pto = pto\n",
    "    def speak(self):\n",
    "        print(self.pfrom.name, 'owns',self.pto.name,self.amount)\n",
    "        "
   ]
  },
  {
   "cell_type": "code",
   "execution_count": 2,
   "id": "87339343",
   "metadata": {},
   "outputs": [],
   "source": [
    "class Person:\n",
    "    def __init__(self, name,links):\n",
    "        self.name = name\n",
    "        self.links = links\n",
    "    def say_name(self):\n",
    "        print('my name is',self.name)\n",
    "    def say_links(self):\n",
    "        for l in self.links:\n",
    "            l.speak()"
   ]
  },
  {
   "cell_type": "code",
   "execution_count": 3,
   "id": "dda3d7d3",
   "metadata": {},
   "outputs": [],
   "source": [
    "class bill:\n",
    "    def __init__(self, amount,paid_by,shared_by):\n",
    "        self.amount = amount\n",
    "        self.paid_by = [paid_by]\n",
    "        self.shared_by = shared_by\n",
    "    def say_paid_by(self):\n",
    "        print('the bill is paid by',','.join([p.name for p in self.paid_by]))\n",
    "    def say_shared_by(self):\n",
    "        print('the bill is shared by',','.join([p.name for p in self.shared_by]))\n",
    "    def assign_link(self):\n",
    "        for p in self.shared_by:\n",
    "            for r in self.paid_by:\n",
    "                if(r == p):\n",
    "                    break\n",
    "                else:\n",
    "                    l = link(p,r,(self.amount/len(self.shared_by)))\n",
    "                    p.links.append(l)\n",
    "                    l2 = link(r,p,-(self.amount/len(self.shared_by)))\n",
    "                    r.links.append(l2)\n",
    "        print('done')"
   ]
  },
  {
   "cell_type": "code",
   "execution_count": 4,
   "id": "7ff17abc",
   "metadata": {},
   "outputs": [
    {
     "name": "stdout",
     "output_type": "stream",
     "text": [
      "my name is Susan\n"
     ]
    }
   ],
   "source": [
    "p = Person('Susan',[])\n",
    "p.say_name()"
   ]
  },
  {
   "cell_type": "code",
   "execution_count": 5,
   "id": "4aabb571",
   "metadata": {},
   "outputs": [
    {
     "name": "stdout",
     "output_type": "stream",
     "text": [
      "my name is Matthew\n"
     ]
    }
   ],
   "source": [
    "m =Person('Matthew',[])\n",
    "m.say_name()"
   ]
  },
  {
   "cell_type": "code",
   "execution_count": 6,
   "id": "5623828b",
   "metadata": {},
   "outputs": [],
   "source": [
    "b = bill(100,p,[p,m])"
   ]
  },
  {
   "cell_type": "code",
   "execution_count": 7,
   "id": "a0b40afe",
   "metadata": {},
   "outputs": [
    {
     "name": "stdout",
     "output_type": "stream",
     "text": [
      "done\n"
     ]
    }
   ],
   "source": [
    "b.assign_link()"
   ]
  },
  {
   "cell_type": "code",
   "execution_count": 8,
   "id": "08b56130",
   "metadata": {},
   "outputs": [
    {
     "name": "stdout",
     "output_type": "stream",
     "text": [
      "Susan owns Matthew -50.0\n"
     ]
    }
   ],
   "source": [
    "p.say_links()"
   ]
  },
  {
   "cell_type": "code",
   "execution_count": 9,
   "id": "6b3623dd",
   "metadata": {},
   "outputs": [
    {
     "name": "stdout",
     "output_type": "stream",
     "text": [
      "Matthew owns Susan 50.0\n"
     ]
    }
   ],
   "source": [
    "m.say_links()"
   ]
  },
  {
   "cell_type": "code",
   "execution_count": 10,
   "id": "1c2bbe75",
   "metadata": {},
   "outputs": [],
   "source": [
    "b2 = bill(40,m,[p,m])"
   ]
  },
  {
   "cell_type": "code",
   "execution_count": 11,
   "id": "aef4ca63",
   "metadata": {},
   "outputs": [
    {
     "name": "stdout",
     "output_type": "stream",
     "text": [
      "done\n"
     ]
    }
   ],
   "source": [
    "b2.assign_link()"
   ]
  },
  {
   "cell_type": "code",
   "execution_count": 12,
   "id": "714be548",
   "metadata": {},
   "outputs": [
    {
     "name": "stdout",
     "output_type": "stream",
     "text": [
      "Matthew owns Susan 50.0\n",
      "Matthew owns Susan -20.0\n"
     ]
    }
   ],
   "source": [
    "m.say_links()"
   ]
  },
  {
   "cell_type": "code",
   "execution_count": 13,
   "id": "49704fcf",
   "metadata": {},
   "outputs": [
    {
     "name": "stdout",
     "output_type": "stream",
     "text": [
      "Susan owns Matthew -50.0\n",
      "Susan owns Matthew 20.0\n"
     ]
    }
   ],
   "source": [
    "p.say_links()"
   ]
  },
  {
   "cell_type": "code",
   "execution_count": 14,
   "id": "fd70d209",
   "metadata": {},
   "outputs": [],
   "source": [
    "people = [p,m]\n",
    "def compile_links(people):\n",
    "    all_links = []\n",
    "    for person in people:\n",
    "        all_links.extend(person.links)\n",
    "    return all_links"
   ]
  },
  {
   "cell_type": "code",
   "execution_count": 15,
   "id": "1fdff093",
   "metadata": {},
   "outputs": [
    {
     "name": "stdout",
     "output_type": "stream",
     "text": [
      "done\n",
      "Susan owns Matthew -50.0\n",
      "Susan owns Matthew 20.0\n",
      "Susan owns Matthew 25.0\n"
     ]
    }
   ],
   "source": [
    "b3 = bill(50,m,[p,m])\n",
    "b3.assign_link()\n",
    "p.say_links()"
   ]
  },
  {
   "cell_type": "code",
   "execution_count": 16,
   "id": "99a83aba",
   "metadata": {},
   "outputs": [],
   "source": [
    "all_links = compile_links(people)"
   ]
  },
  {
   "cell_type": "code",
   "execution_count": 17,
   "id": "4c103242",
   "metadata": {},
   "outputs": [
    {
     "name": "stdout",
     "output_type": "stream",
     "text": [
      "Susan owns Matthew -50.0\n",
      "Susan owns Matthew 20.0\n",
      "Susan owns Matthew 25.0\n",
      "Matthew owns Susan 50.0\n",
      "Matthew owns Susan -20.0\n",
      "Matthew owns Susan -25.0\n"
     ]
    }
   ],
   "source": [
    "for a in all_links:\n",
    "    a.speak()"
   ]
  },
  {
   "cell_type": "code",
   "execution_count": 18,
   "id": "300d2aa4",
   "metadata": {},
   "outputs": [],
   "source": [
    "class node(Person):\n",
    "    def __init__(self, Person):\n",
    "        self.name = Person.name\n",
    "        self.person = Person\n",
    "        self.links = []\n",
    "    def say_name(self):\n",
    "        print('my name is',self.name)"
   ]
  },
  {
   "cell_type": "code",
   "execution_count": 19,
   "id": "e5051880",
   "metadata": {},
   "outputs": [],
   "source": [
    "def calculate(people):\n",
    "    all_links = compile_links(people)\n",
    "    nodes = []\n",
    "    for p in people:\n",
    "        n = node(p)\n",
    "        nodes.append(n)\n",
    "        for pto in set([links.pto for links in all_links if links.pfrom == p]):\n",
    "            n.links.append(link(p,pto,sum([links.amount for links in all_links if links.pfrom == p and links.pto == pto])))\n",
    "    return nodes"
   ]
  },
  {
   "cell_type": "code",
   "execution_count": 20,
   "id": "708de27c",
   "metadata": {},
   "outputs": [],
   "source": [
    "nodes = calculate(people)"
   ]
  },
  {
   "cell_type": "code",
   "execution_count": 21,
   "id": "a003aa27",
   "metadata": {},
   "outputs": [
    {
     "name": "stdout",
     "output_type": "stream",
     "text": [
      "Susan owns Matthew -5.0\n",
      "Matthew owns Susan 5.0\n"
     ]
    }
   ],
   "source": [
    "for n in nodes:\n",
    "    n.say_links()"
   ]
  },
  {
   "cell_type": "code",
   "execution_count": 22,
   "id": "802875db",
   "metadata": {},
   "outputs": [
    {
     "name": "stdout",
     "output_type": "stream",
     "text": [
      "done\n"
     ]
    }
   ],
   "source": [
    "b4 = bill(100,p,[p,m])\n",
    "b4.assign_link()\n",
    "nodes = calculate(people)"
   ]
  },
  {
   "cell_type": "code",
   "execution_count": 23,
   "id": "79b2c593",
   "metadata": {},
   "outputs": [
    {
     "name": "stdout",
     "output_type": "stream",
     "text": [
      "Susan owns Matthew -55.0\n",
      "Matthew owns Susan 55.0\n"
     ]
    }
   ],
   "source": [
    "for n in nodes:\n",
    "    n.say_links()"
   ]
  },
  {
   "cell_type": "code",
   "execution_count": 24,
   "id": "25df8890",
   "metadata": {},
   "outputs": [],
   "source": [
    "import networkx as nx"
   ]
  },
  {
   "cell_type": "code",
   "execution_count": 25,
   "id": "3de9973a",
   "metadata": {},
   "outputs": [],
   "source": [
    "G = nx.DiGraph()\n",
    "G.add_nodes_from([node.name for node in nodes])\n",
    "final_links = [link for link in compile_links(nodes) if link.amount > 0]"
   ]
  },
  {
   "cell_type": "code",
   "execution_count": 26,
   "id": "478d90c4",
   "metadata": {},
   "outputs": [
    {
     "data": {
      "text/plain": [
       "['Susan', 'Matthew']"
      ]
     },
     "execution_count": 26,
     "metadata": {},
     "output_type": "execute_result"
    }
   ],
   "source": [
    "list(G.nodes)"
   ]
  },
  {
   "cell_type": "code",
   "execution_count": 27,
   "id": "90f051ed",
   "metadata": {},
   "outputs": [
    {
     "name": "stdout",
     "output_type": "stream",
     "text": [
      "Matthew owns Susan 55.0\n"
     ]
    }
   ],
   "source": [
    "for i in final_links:\n",
    "    i.speak()\n",
    "    G.add_edge(i.pfrom.name, i.pto.name, weight=i.amount)"
   ]
  },
  {
   "cell_type": "code",
   "execution_count": 28,
   "id": "c7dbec2f",
   "metadata": {},
   "outputs": [
    {
     "data": {
      "text/plain": [
       "['Susan', 'Matthew']"
      ]
     },
     "execution_count": 28,
     "metadata": {},
     "output_type": "execute_result"
    }
   ],
   "source": [
    "list(G.nodes)"
   ]
  },
  {
   "cell_type": "code",
   "execution_count": 29,
   "id": "1031146c",
   "metadata": {},
   "outputs": [
    {
     "data": {
      "text/plain": [
       "[('Matthew', 'Susan')]"
      ]
     },
     "execution_count": 29,
     "metadata": {},
     "output_type": "execute_result"
    }
   ],
   "source": [
    "list(G.edges)"
   ]
  },
  {
   "cell_type": "code",
   "execution_count": 30,
   "id": "ab660484",
   "metadata": {},
   "outputs": [],
   "source": [
    "def create_graph(nodes):\n",
    "    G = nx.DiGraph()\n",
    "    final_links = [link for link in compile_links(nodes) if link.amount > 0]\n",
    "    for i in final_links:\n",
    "        G.add_edge(i.pfrom.name, i.pto.name, weight=i.amount)\n",
    "    return G"
   ]
  },
  {
   "cell_type": "code",
   "execution_count": 31,
   "id": "6b2ff991",
   "metadata": {},
   "outputs": [],
   "source": [
    "H = create_graph(nodes)"
   ]
  },
  {
   "cell_type": "code",
   "execution_count": 32,
   "id": "7fdc89f2",
   "metadata": {},
   "outputs": [
    {
     "data": {
      "text/plain": [
       "['Matthew', 'Susan']"
      ]
     },
     "execution_count": 32,
     "metadata": {},
     "output_type": "execute_result"
    }
   ],
   "source": [
    "list(H.nodes)"
   ]
  },
  {
   "cell_type": "code",
   "execution_count": 33,
   "id": "f10bc399",
   "metadata": {},
   "outputs": [
    {
     "data": {
      "text/plain": [
       "[('Matthew', 'Susan')]"
      ]
     },
     "execution_count": 33,
     "metadata": {},
     "output_type": "execute_result"
    }
   ],
   "source": [
    "list(H.edges)"
   ]
  },
  {
   "cell_type": "code",
   "execution_count": null,
   "id": "e58b698d",
   "metadata": {},
   "outputs": [],
   "source": []
  }
 ],
 "metadata": {
  "kernelspec": {
   "display_name": "Python 3 (ipykernel)",
   "language": "python",
   "name": "python3"
  },
  "language_info": {
   "codemirror_mode": {
    "name": "ipython",
    "version": 3
   },
   "file_extension": ".py",
   "mimetype": "text/x-python",
   "name": "python",
   "nbconvert_exporter": "python",
   "pygments_lexer": "ipython3",
   "version": "3.8.3"
  }
 },
 "nbformat": 4,
 "nbformat_minor": 5
}
